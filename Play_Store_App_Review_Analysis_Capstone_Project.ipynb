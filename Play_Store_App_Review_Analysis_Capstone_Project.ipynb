{
  "nbformat": 4,
  "nbformat_minor": 0,
  "metadata": {
    "kernelspec": {
      "display_name": "Python 3",
      "language": "python",
      "name": "python3"
    },
    "language_info": {
      "codemirror_mode": {
        "name": "ipython",
        "version": 3
      },
      "file_extension": ".py",
      "mimetype": "text/x-python",
      "name": "python",
      "nbconvert_exporter": "python",
      "pygments_lexer": "ipython3",
      "version": "3.6.6"
    },
    "colab": {
      "name": "Play Store App Review Analysis - Capstone Project.ipynb",
      "provenance": [],
      "collapsed_sections": [],
      "include_colab_link": true
    }
  },
  "cells": [
    {
      "cell_type": "markdown",
      "metadata": {
        "id": "view-in-github",
        "colab_type": "text"
      },
      "source": [
        "<a href=\"https://colab.research.google.com/github/arifuddinatif/Play-Store-App-Review-Analysis/blob/main/Play_Store_App_Review_Analysis_Capstone_Project.ipynb\" target=\"_parent\"><img src=\"https://colab.research.google.com/assets/colab-badge.svg\" alt=\"Open In Colab\"/></a>"
      ]
    },
    {
      "cell_type": "markdown",
      "metadata": {
        "id": "Y06xIdG26kRF"
      },
      "source": [
        "## <b> The Play Store apps data has enormous potential to drive app-making businesses to success. Actionable insights can be drawn for developers to work on and capture the Android market. </b>\n",
        "\n",
        "## <b> Each app (row) has values for catergory, rating, size, and more. Another dataset contains customer reviews of the android apps.</b>\n",
        "\n",
        "## <b> Explore and analyze the data to discover key factors responsible for app engagement and success. </b>"
      ]
    },
    {
      "cell_type": "code",
      "metadata": {
        "id": "q6eBO3FCQSdL"
      },
      "source": [
        "import numpy as np\n",
        "import pandas as pd\n",
        "from datetime import datetime\n",
        "from datetime import date\n"
      ],
      "execution_count": null,
      "outputs": []
    },
    {
      "cell_type": "code",
      "metadata": {
        "colab": {
          "base_uri": "https://localhost:8080/"
        },
        "id": "02FPP_W3PyMP",
        "outputId": "2c6284d4-0216-4aa7-eebf-76dca0a09d9d"
      },
      "source": [
        "from google.colab import drive\n",
        "drive.mount('/content/drive')"
      ],
      "execution_count": null,
      "outputs": [
        {
          "output_type": "stream",
          "text": [
            "Mounted at /content/drive\n"
          ],
          "name": "stdout"
        }
      ]
    },
    {
      "cell_type": "code",
      "metadata": {
        "id": "dByMsuzT8Tnw"
      },
      "source": [
        "path = '/content/drive/MyDrive/Colab Notebooks/projects/EDA - playstore app review analysis/DAT files/Copy of Play Store Data.csv'\n",
        "df = pd.read_csv(path)"
      ],
      "execution_count": null,
      "outputs": []
    },
    {
      "cell_type": "code",
      "metadata": {
        "id": "nMHOwXNK6tcT"
      },
      "source": [
        "def replacefunc(column):\n",
        "\n",
        " \n",
        "  return column.replace(' ','/').replace(',','').replace('.','/').replace('?',np.nan).replace('NA',np.nan)"
      ],
      "execution_count": null,
      "outputs": []
    },
    {
      "cell_type": "code",
      "metadata": {
        "id": "LBEqFxfa8W1R"
      },
      "source": [
        "def datetimefunc(column):\n",
        "  try:\n",
        "    if column[-7] == '/':\n",
        "      x = column.split('/')\n",
        "      x[1] = '0'+x[1]\n",
        "      y = '/'.join(x)\n",
        "      return y\n",
        "    else:\n",
        "      return column \n",
        "  except:\n",
        "    return column    "
      ],
      "execution_count": null,
      "outputs": []
    },
    {
      "cell_type": "code",
      "metadata": {
        "colab": {
          "base_uri": "https://localhost:8080/",
          "height": 297
        },
        "id": "HkB-8mj3_7E_",
        "outputId": "307619fa-757d-46f6-cd75-aa4bfdd56505"
      },
      "source": [
        "df.head()"
      ],
      "execution_count": null,
      "outputs": [
        {
          "output_type": "execute_result",
          "data": {
            "text/html": [
              "<div>\n",
              "<style scoped>\n",
              "    .dataframe tbody tr th:only-of-type {\n",
              "        vertical-align: middle;\n",
              "    }\n",
              "\n",
              "    .dataframe tbody tr th {\n",
              "        vertical-align: top;\n",
              "    }\n",
              "\n",
              "    .dataframe thead th {\n",
              "        text-align: right;\n",
              "    }\n",
              "</style>\n",
              "<table border=\"1\" class=\"dataframe\">\n",
              "  <thead>\n",
              "    <tr style=\"text-align: right;\">\n",
              "      <th></th>\n",
              "      <th>App</th>\n",
              "      <th>Category</th>\n",
              "      <th>Rating</th>\n",
              "      <th>Reviews</th>\n",
              "      <th>Size</th>\n",
              "      <th>Installs</th>\n",
              "      <th>Type</th>\n",
              "      <th>Price</th>\n",
              "      <th>Content Rating</th>\n",
              "      <th>Genres</th>\n",
              "      <th>Last Updated</th>\n",
              "      <th>Current Ver</th>\n",
              "      <th>Android Ver</th>\n",
              "    </tr>\n",
              "  </thead>\n",
              "  <tbody>\n",
              "    <tr>\n",
              "      <th>0</th>\n",
              "      <td>Photo Editor &amp; Candy Camera &amp; Grid &amp; ScrapBook</td>\n",
              "      <td>ART_AND_DESIGN</td>\n",
              "      <td>4.1</td>\n",
              "      <td>159</td>\n",
              "      <td>19M</td>\n",
              "      <td>10,000+</td>\n",
              "      <td>Free</td>\n",
              "      <td>0</td>\n",
              "      <td>Everyone</td>\n",
              "      <td>Art &amp; Design</td>\n",
              "      <td>January 7, 2018</td>\n",
              "      <td>1.0.0</td>\n",
              "      <td>4.0.3 and up</td>\n",
              "    </tr>\n",
              "    <tr>\n",
              "      <th>1</th>\n",
              "      <td>Coloring book moana</td>\n",
              "      <td>ART_AND_DESIGN</td>\n",
              "      <td>3.9</td>\n",
              "      <td>967</td>\n",
              "      <td>14M</td>\n",
              "      <td>500,000+</td>\n",
              "      <td>Free</td>\n",
              "      <td>0</td>\n",
              "      <td>Everyone</td>\n",
              "      <td>Art &amp; Design;Pretend Play</td>\n",
              "      <td>January 15, 2018</td>\n",
              "      <td>2.0.0</td>\n",
              "      <td>4.0.3 and up</td>\n",
              "    </tr>\n",
              "    <tr>\n",
              "      <th>2</th>\n",
              "      <td>U Launcher Lite – FREE Live Cool Themes, Hide ...</td>\n",
              "      <td>ART_AND_DESIGN</td>\n",
              "      <td>4.7</td>\n",
              "      <td>87510</td>\n",
              "      <td>8.7M</td>\n",
              "      <td>5,000,000+</td>\n",
              "      <td>Free</td>\n",
              "      <td>0</td>\n",
              "      <td>Everyone</td>\n",
              "      <td>Art &amp; Design</td>\n",
              "      <td>August 1, 2018</td>\n",
              "      <td>1.2.4</td>\n",
              "      <td>4.0.3 and up</td>\n",
              "    </tr>\n",
              "    <tr>\n",
              "      <th>3</th>\n",
              "      <td>Sketch - Draw &amp; Paint</td>\n",
              "      <td>ART_AND_DESIGN</td>\n",
              "      <td>4.5</td>\n",
              "      <td>215644</td>\n",
              "      <td>25M</td>\n",
              "      <td>50,000,000+</td>\n",
              "      <td>Free</td>\n",
              "      <td>0</td>\n",
              "      <td>Teen</td>\n",
              "      <td>Art &amp; Design</td>\n",
              "      <td>June 8, 2018</td>\n",
              "      <td>Varies with device</td>\n",
              "      <td>4.2 and up</td>\n",
              "    </tr>\n",
              "    <tr>\n",
              "      <th>4</th>\n",
              "      <td>Pixel Draw - Number Art Coloring Book</td>\n",
              "      <td>ART_AND_DESIGN</td>\n",
              "      <td>4.3</td>\n",
              "      <td>967</td>\n",
              "      <td>2.8M</td>\n",
              "      <td>100,000+</td>\n",
              "      <td>Free</td>\n",
              "      <td>0</td>\n",
              "      <td>Everyone</td>\n",
              "      <td>Art &amp; Design;Creativity</td>\n",
              "      <td>June 20, 2018</td>\n",
              "      <td>1.1</td>\n",
              "      <td>4.4 and up</td>\n",
              "    </tr>\n",
              "  </tbody>\n",
              "</table>\n",
              "</div>"
            ],
            "text/plain": [
              "                                                 App  ...   Android Ver\n",
              "0     Photo Editor & Candy Camera & Grid & ScrapBook  ...  4.0.3 and up\n",
              "1                                Coloring book moana  ...  4.0.3 and up\n",
              "2  U Launcher Lite – FREE Live Cool Themes, Hide ...  ...  4.0.3 and up\n",
              "3                              Sketch - Draw & Paint  ...    4.2 and up\n",
              "4              Pixel Draw - Number Art Coloring Book  ...    4.4 and up\n",
              "\n",
              "[5 rows x 13 columns]"
            ]
          },
          "metadata": {
            "tags": []
          },
          "execution_count": 461
        }
      ]
    },
    {
      "cell_type": "markdown",
      "metadata": {
        "id": "M4hJ4SXgXloD"
      },
      "source": [
        "#cleaning rating column"
      ]
    },
    {
      "cell_type": "code",
      "metadata": {
        "id": "PcrG2b6eugjV"
      },
      "source": [
        "def cleanrating(column):\n",
        "\n",
        "  if column > 5: \n",
        "    return np.nan\n",
        "  else:\n",
        "    return column  "
      ],
      "execution_count": null,
      "outputs": []
    },
    {
      "cell_type": "code",
      "metadata": {
        "id": "2iMyXTsiw3HF"
      },
      "source": [
        "def change_to_object(column):\n",
        "  return eval(column)"
      ],
      "execution_count": null,
      "outputs": []
    },
    {
      "cell_type": "code",
      "metadata": {
        "id": "m7eVTGGJrOhO"
      },
      "source": [
        "df.loc[~df['Rating'].isna(),'Rating'] = df.loc[~df['Rating'].isna(),'Rating'].apply(cleanrating)"
      ],
      "execution_count": null,
      "outputs": []
    },
    {
      "cell_type": "markdown",
      "metadata": {
        "id": "iXcUDvrPXtAr"
      },
      "source": [
        "# cleaning reviews column"
      ]
    },
    {
      "cell_type": "code",
      "metadata": {
        "id": "g1H4bylUxAKp"
      },
      "source": [
        "for i in range(len(df['Reviews'])):\n",
        "  if df.loc[i,'Reviews'][-1] == 'M':\n",
        "    df.loc[i,'Reviews'] = df.loc[i,'Reviews'].replace('M','')"
      ],
      "execution_count": null,
      "outputs": []
    },
    {
      "cell_type": "code",
      "metadata": {
        "id": "olf1YFbNxCpV"
      },
      "source": [
        "df.loc[~df['Reviews'].isna(),'Reviews'] = df.loc[~df['Reviews'].isna(),'Reviews'].apply(change_to_object)"
      ],
      "execution_count": null,
      "outputs": []
    },
    {
      "cell_type": "code",
      "metadata": {
        "colab": {
          "base_uri": "https://localhost:8080/"
        },
        "id": "FQmKIAd57_2R",
        "outputId": "4fa1bab8-6173-4af1-89f0-c0004a38acd2"
      },
      "source": [
        "type(df['Reviews'][0])"
      ],
      "execution_count": null,
      "outputs": [
        {
          "output_type": "execute_result",
          "data": {
            "text/plain": [
              "numpy.float64"
            ]
          },
          "metadata": {
            "tags": []
          },
          "execution_count": 479
        }
      ]
    },
    {
      "cell_type": "markdown",
      "metadata": {
        "id": "b5kuuQZmXw1S"
      },
      "source": [
        "# cleaning size column"
      ]
    },
    {
      "cell_type": "code",
      "metadata": {
        "id": "MBI8qvL49iWw"
      },
      "source": [
        "for i in range(len(df['Size'])):\n",
        "  if df.loc[i,'Size'][-1] == 'M':\n",
        "    df.loc[i,'Size'] = df.loc[i,'Size'].replace('M','')"
      ],
      "execution_count": null,
      "outputs": []
    },
    {
      "cell_type": "code",
      "metadata": {
        "id": "RBIcHeku-x3W"
      },
      "source": [
        "for i in range(len(df['Size'])):\n",
        "  if df.loc[i,'Size'] == 'Varies with device':\n",
        "    df.loc[i,'Size'] = np.nan"
      ],
      "execution_count": null,
      "outputs": []
    },
    {
      "cell_type": "code",
      "metadata": {
        "id": "iGkrPAY6_Fo_"
      },
      "source": [
        "for i in range(len(df['Size'])):\n",
        "  try:\n",
        "    if df.loc[i,'Size'][-1] == 'k':\n",
        "      df.loc[i,'Size'] = df.loc[i,'Size'].replace('k','000')\n",
        "    if df.loc[i,'Size'][-1] == '+':\n",
        "      df.loc[i,'Size'] = df.loc[i,'Size'].replace('+','')  \n",
        "  except:\n",
        "    pass    "
      ],
      "execution_count": null,
      "outputs": []
    },
    {
      "cell_type": "code",
      "metadata": {
        "id": "ysBAoZTs-XMj"
      },
      "source": [
        "df.loc[~df['Size'].isna(),'Size'] = df.loc[~df['Size'].isna(),'Size'].apply(change_to_object)"
      ],
      "execution_count": null,
      "outputs": []
    },
    {
      "cell_type": "code",
      "metadata": {
        "id": "Dw7e-qLWGJPz"
      },
      "source": [
        "df.rename(columns={'Size':'Size in mb'},inplace=True)"
      ],
      "execution_count": null,
      "outputs": []
    },
    {
      "cell_type": "code",
      "metadata": {
        "colab": {
          "base_uri": "https://localhost:8080/"
        },
        "id": "LAVja08V_c_U",
        "outputId": "733384e5-68f1-473f-b7fb-525029f861c3"
      },
      "source": [
        "type(df['Size in mb'][2])"
      ],
      "execution_count": null,
      "outputs": [
        {
          "output_type": "execute_result",
          "data": {
            "text/plain": [
              "float"
            ]
          },
          "metadata": {
            "tags": []
          },
          "execution_count": 486
        }
      ]
    },
    {
      "cell_type": "markdown",
      "metadata": {
        "id": "KzaSuCvVX17U"
      },
      "source": [
        "#cleaning installs column"
      ]
    },
    {
      "cell_type": "markdown",
      "metadata": {
        "id": "fOPMXIJjX1zs"
      },
      "source": [
        ""
      ]
    },
    {
      "cell_type": "code",
      "metadata": {
        "id": "KWzUuGSg_hSA"
      },
      "source": [
        "for i in range(len(df['Installs'])):\n",
        "  if df.loc[i,'Installs'][-1] == '+':\n",
        "    df.loc[i,'Installs'] = df.loc[i,'Installs'].replace('+','')"
      ],
      "execution_count": null,
      "outputs": []
    },
    {
      "cell_type": "code",
      "metadata": {
        "id": "Boksj5YRA_Ro"
      },
      "source": [
        "for i in range(len(df['Installs'])):\n",
        "  if df.loc[i,'Installs'] == 'Free':\n",
        "    df.loc[i,'Installs'] = np.nan"
      ],
      "execution_count": null,
      "outputs": []
    },
    {
      "cell_type": "code",
      "metadata": {
        "id": "w5Z-znKkCEzJ"
      },
      "source": [
        "def cleaninstalls(column):\n",
        "  return column.replace(',','')"
      ],
      "execution_count": null,
      "outputs": []
    },
    {
      "cell_type": "code",
      "metadata": {
        "id": "LIp5Gw7iCbA9"
      },
      "source": [
        "df.loc[~df['Installs'].isna(),'Installs'] = df.loc[~df['Installs'].isna(),'Installs'].apply(cleaninstalls)"
      ],
      "execution_count": null,
      "outputs": []
    },
    {
      "cell_type": "code",
      "metadata": {
        "id": "edUJAG2UAvIW"
      },
      "source": [
        "df.loc[~df['Installs'].isna(),'Installs'] = df.loc[~df['Installs'].isna(),'Installs'].apply(change_to_object)"
      ],
      "execution_count": null,
      "outputs": []
    },
    {
      "cell_type": "code",
      "metadata": {
        "colab": {
          "base_uri": "https://localhost:8080/"
        },
        "id": "cTM_Q2WqBqmx",
        "outputId": "7608a48e-0df4-4e15-c6b6-bec8fe4bcabf"
      },
      "source": [
        "type(df['Installs'][2])"
      ],
      "execution_count": null,
      "outputs": [
        {
          "output_type": "execute_result",
          "data": {
            "text/plain": [
              "numpy.int64"
            ]
          },
          "metadata": {
            "tags": []
          },
          "execution_count": 448
        }
      ]
    },
    {
      "cell_type": "markdown",
      "metadata": {
        "id": "gzt1GEIZX5Kn"
      },
      "source": [
        "#cleaning price column"
      ]
    },
    {
      "cell_type": "code",
      "metadata": {
        "id": "AMOfIfZXC4ve"
      },
      "source": [
        "for i in range(len(df['Price'])):\n",
        "  if df.loc[i,'Price'][0] == '$':\n",
        "    df.loc[i,'Price'] = df.loc[i,'Price'].replace('$','')"
      ],
      "execution_count": null,
      "outputs": []
    },
    {
      "cell_type": "code",
      "metadata": {
        "id": "PINzKzgODNW7"
      },
      "source": [
        "for i in range(len(df['Price'])):\n",
        "  if df.loc[i,'Price'] == 'Everyone':\n",
        "    df.loc[i,'Price'] = np.nan"
      ],
      "execution_count": null,
      "outputs": []
    },
    {
      "cell_type": "code",
      "metadata": {
        "id": "UGcGb7cjCn03"
      },
      "source": [
        "df.loc[~df['Price'].isna(),'Price'] = df.loc[~df['Price'].isna(),'Price'].apply(change_to_object)"
      ],
      "execution_count": null,
      "outputs": []
    },
    {
      "cell_type": "code",
      "metadata": {
        "id": "wY5eaiVWDgzi"
      },
      "source": [
        "df.rename(columns={'Price':'Price in dollars'},inplace=True)"
      ],
      "execution_count": null,
      "outputs": []
    },
    {
      "cell_type": "code",
      "metadata": {
        "colab": {
          "base_uri": "https://localhost:8080/"
        },
        "id": "LpfTog1LDdOq",
        "outputId": "ba053801-709f-4b6f-d0cd-1cee03411c2b"
      },
      "source": [
        "type(df['Price in dollars'][2])"
      ],
      "execution_count": null,
      "outputs": [
        {
          "output_type": "execute_result",
          "data": {
            "text/plain": [
              "float"
            ]
          },
          "metadata": {
            "tags": []
          },
          "execution_count": 457
        }
      ]
    }
  ]
}